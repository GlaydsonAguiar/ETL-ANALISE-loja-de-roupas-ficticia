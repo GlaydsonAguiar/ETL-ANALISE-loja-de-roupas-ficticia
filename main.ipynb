{
 "cells": [
  {
   "cell_type": "code",
   "execution_count": 1,
   "id": "9a826bc3",
   "metadata": {},
   "outputs": [
    {
     "data": {
      "text/html": [
       "<div>\n",
       "<style scoped>\n",
       "    .dataframe tbody tr th:only-of-type {\n",
       "        vertical-align: middle;\n",
       "    }\n",
       "\n",
       "    .dataframe tbody tr th {\n",
       "        vertical-align: top;\n",
       "    }\n",
       "\n",
       "    .dataframe thead th {\n",
       "        text-align: right;\n",
       "    }\n",
       "</style>\n",
       "<table border=\"1\" class=\"dataframe\">\n",
       "  <thead>\n",
       "    <tr style=\"text-align: right;\">\n",
       "      <th></th>\n",
       "      <th>Data_Venda</th>\n",
       "      <th>Produto</th>\n",
       "      <th>Cor</th>\n",
       "      <th>Tamanho</th>\n",
       "      <th>Preço_Unitário</th>\n",
       "      <th>Quantidade</th>\n",
       "      <th>Canal_Venda</th>\n",
       "      <th>Região</th>\n",
       "      <th>Valor_Total</th>\n",
       "    </tr>\n",
       "  </thead>\n",
       "  <tbody>\n",
       "    <tr>\n",
       "      <th>0</th>\n",
       "      <td>2024-12-12</td>\n",
       "      <td>Jaqueta</td>\n",
       "      <td>Preto</td>\n",
       "      <td>GG</td>\n",
       "      <td>110.00</td>\n",
       "      <td>2</td>\n",
       "      <td>E-commerce</td>\n",
       "      <td>Centro-Oeste</td>\n",
       "      <td>220.00</td>\n",
       "    </tr>\n",
       "    <tr>\n",
       "      <th>1</th>\n",
       "      <td>2024-10-28</td>\n",
       "      <td>Short</td>\n",
       "      <td>Amarelo</td>\n",
       "      <td>G</td>\n",
       "      <td>93.07</td>\n",
       "      <td>1</td>\n",
       "      <td>Marketplace</td>\n",
       "      <td>Centro-Oeste</td>\n",
       "      <td>93.07</td>\n",
       "    </tr>\n",
       "    <tr>\n",
       "      <th>2</th>\n",
       "      <td>2024-09-26</td>\n",
       "      <td>Vestido</td>\n",
       "      <td>Amarelo</td>\n",
       "      <td>M</td>\n",
       "      <td>41.37</td>\n",
       "      <td>3</td>\n",
       "      <td>Loja Física</td>\n",
       "      <td>Norte</td>\n",
       "      <td>124.11</td>\n",
       "    </tr>\n",
       "    <tr>\n",
       "      <th>3</th>\n",
       "      <td>2025-08-06</td>\n",
       "      <td>Short</td>\n",
       "      <td>Verde</td>\n",
       "      <td>PP</td>\n",
       "      <td>34.83</td>\n",
       "      <td>1</td>\n",
       "      <td>E-commerce</td>\n",
       "      <td>Sudeste</td>\n",
       "      <td>34.83</td>\n",
       "    </tr>\n",
       "    <tr>\n",
       "      <th>4</th>\n",
       "      <td>2024-09-21</td>\n",
       "      <td>Short</td>\n",
       "      <td>Branco</td>\n",
       "      <td>M</td>\n",
       "      <td>296.69</td>\n",
       "      <td>3</td>\n",
       "      <td>E-commerce</td>\n",
       "      <td>Sul</td>\n",
       "      <td>890.07</td>\n",
       "    </tr>\n",
       "    <tr>\n",
       "      <th>...</th>\n",
       "      <td>...</td>\n",
       "      <td>...</td>\n",
       "      <td>...</td>\n",
       "      <td>...</td>\n",
       "      <td>...</td>\n",
       "      <td>...</td>\n",
       "      <td>...</td>\n",
       "      <td>...</td>\n",
       "      <td>...</td>\n",
       "    </tr>\n",
       "    <tr>\n",
       "      <th>495</th>\n",
       "      <td>2024-09-03</td>\n",
       "      <td>Jaqueta</td>\n",
       "      <td>Amarelo</td>\n",
       "      <td>PP</td>\n",
       "      <td>144.41</td>\n",
       "      <td>4</td>\n",
       "      <td>Marketplace</td>\n",
       "      <td>Sul</td>\n",
       "      <td>577.64</td>\n",
       "    </tr>\n",
       "    <tr>\n",
       "      <th>496</th>\n",
       "      <td>2025-02-08</td>\n",
       "      <td>Calça</td>\n",
       "      <td>Verde</td>\n",
       "      <td>PP</td>\n",
       "      <td>210.24</td>\n",
       "      <td>1</td>\n",
       "      <td>E-commerce</td>\n",
       "      <td>Sul</td>\n",
       "      <td>210.24</td>\n",
       "    </tr>\n",
       "    <tr>\n",
       "      <th>497</th>\n",
       "      <td>2025-02-27</td>\n",
       "      <td>Calça</td>\n",
       "      <td>Preto</td>\n",
       "      <td>M</td>\n",
       "      <td>55.79</td>\n",
       "      <td>1</td>\n",
       "      <td>Loja Física</td>\n",
       "      <td>Centro-Oeste</td>\n",
       "      <td>55.79</td>\n",
       "    </tr>\n",
       "    <tr>\n",
       "      <th>498</th>\n",
       "      <td>2024-09-29</td>\n",
       "      <td>Short</td>\n",
       "      <td>Preto</td>\n",
       "      <td>GG</td>\n",
       "      <td>198.44</td>\n",
       "      <td>2</td>\n",
       "      <td>Loja Física</td>\n",
       "      <td>Centro-Oeste</td>\n",
       "      <td>396.88</td>\n",
       "    </tr>\n",
       "    <tr>\n",
       "      <th>499</th>\n",
       "      <td>2025-04-22</td>\n",
       "      <td>Jaqueta</td>\n",
       "      <td>Verde</td>\n",
       "      <td>P</td>\n",
       "      <td>151.98</td>\n",
       "      <td>3</td>\n",
       "      <td>Marketplace</td>\n",
       "      <td>Nordeste</td>\n",
       "      <td>455.94</td>\n",
       "    </tr>\n",
       "  </tbody>\n",
       "</table>\n",
       "<p>500 rows × 9 columns</p>\n",
       "</div>"
      ],
      "text/plain": [
       "     Data_Venda  Produto      Cor Tamanho  Preço_Unitário  Quantidade  \\\n",
       "0    2024-12-12  Jaqueta    Preto      GG          110.00           2   \n",
       "1    2024-10-28    Short  Amarelo       G           93.07           1   \n",
       "2    2024-09-26  Vestido  Amarelo       M           41.37           3   \n",
       "3    2025-08-06    Short    Verde      PP           34.83           1   \n",
       "4    2024-09-21    Short   Branco       M          296.69           3   \n",
       "..          ...      ...      ...     ...             ...         ...   \n",
       "495  2024-09-03  Jaqueta  Amarelo      PP          144.41           4   \n",
       "496  2025-02-08    Calça    Verde      PP          210.24           1   \n",
       "497  2025-02-27    Calça    Preto       M           55.79           1   \n",
       "498  2024-09-29    Short    Preto      GG          198.44           2   \n",
       "499  2025-04-22  Jaqueta    Verde       P          151.98           3   \n",
       "\n",
       "     Canal_Venda        Região  Valor_Total  \n",
       "0     E-commerce  Centro-Oeste       220.00  \n",
       "1    Marketplace  Centro-Oeste        93.07  \n",
       "2    Loja Física         Norte       124.11  \n",
       "3     E-commerce       Sudeste        34.83  \n",
       "4     E-commerce           Sul       890.07  \n",
       "..           ...           ...          ...  \n",
       "495  Marketplace           Sul       577.64  \n",
       "496   E-commerce           Sul       210.24  \n",
       "497  Loja Física  Centro-Oeste        55.79  \n",
       "498  Loja Física  Centro-Oeste       396.88  \n",
       "499  Marketplace      Nordeste       455.94  \n",
       "\n",
       "[500 rows x 9 columns]"
      ]
     },
     "metadata": {},
     "output_type": "display_data"
    }
   ],
   "source": [
    "import pandas as pd\n",
    "\n",
    "\n",
    "tabela = pd.read_csv(\"vendas_roupas.csv\")\n",
    "\n",
    "tabela = display(tabela)\n"
   ]
  },
  {
   "cell_type": "code",
   "execution_count": 2,
   "id": "d68a51e3",
   "metadata": {},
   "outputs": [
    {
     "name": "stdout",
     "output_type": "stream",
     "text": [
      "Total de vendas em junho: R$15,436.30\n"
     ]
    }
   ],
   "source": [
    "import pandas as pd\n",
    "\n",
    "\n",
    "tabela = pd.read_csv(\"vendas_roupas.csv\")\n",
    "tabela[\"Data_Venda\"] = pd.to_datetime(tabela[\"Data_Venda\"])\n",
    "vendas_junho = tabela[tabela[\"Data_Venda\"].dt.month == 6]\n",
    "total_vendas_junho = vendas_junho[\"Valor_Total\"].sum()\n",
    "\n",
    "print(f\"Total de vendas em junho: R${total_vendas_junho:,.2f}\")\n",
    "\n",
    "\n",
    "vendas_junho.to_csv(\"vendas_junho.csv\", index=False, sep=';', decimal=',', float_format=\"%.2f\")\n"
   ]
  },
  {
   "cell_type": "code",
   "execution_count": 3,
   "id": "d87eaada",
   "metadata": {},
   "outputs": [
    {
     "name": "stdout",
     "output_type": "stream",
     "text": [
      "Total de vendas em junho: R$ 15,436.30\n"
     ]
    }
   ],
   "source": [
    "\n",
    "tabela[\"Data_Venda\"] = pd.to_datetime(tabela[\"Data_Venda\"])\n",
    "junho = tabela[tabela[\"Data_Venda\"].dt.month == 6]\n",
    "total_junho = junho[\"Valor_Total\"].sum()\n",
    "\n",
    "print(f\"Total de vendas em junho: R$ {total_junho:,.2f}\")\n",
    "\n",
    "pd.DataFrame([{\"Total_Vendas_Junho\": total_junho}]).to_csv(\n",
    "    \"total_vendas_junho.csv\",\n",
    "    index=False,\n",
    "    sep=';',\n",
    "    decimal=',',\n",
    "    float_format=\"%.2f\")\n"
   ]
  },
  {
   "cell_type": "code",
   "execution_count": 4,
   "id": "9f1d2e59",
   "metadata": {},
   "outputs": [
    {
     "name": "stdout",
     "output_type": "stream",
     "text": [
      "         Região  Valor_Total\n",
      "2         Norte      3937.82\n",
      "3       Sudeste      3842.74\n",
      "4           Sul      3373.63\n",
      "0  Centro-Oeste      2700.27\n",
      "1      Nordeste      1581.84\n"
     ]
    }
   ],
   "source": [
    "tabela = pd.read_csv(\"vendas_roupas.csv\")   \n",
    "tabela[\"Data_Venda\"] = pd.to_datetime(tabela[\"Data_Venda\"])\n",
    "junho = tabela[tabela[\"Data_Venda\"].dt.month == 6] \n",
    "vendas_junho_regiao = junho.groupby(\"Região\")[\"Valor_Total\"].sum().reset_index()\n",
    "vendas_junho_regiao = vendas_junho_regiao.sort_values(by=\"Valor_Total\", ascending=False)\n",
    "\n",
    "print(vendas_junho_regiao)\n",
    "\n",
    "vendas_junho_regiao.to_csv(\"vendas_junho_regiao.csv\", index=False, sep=';', decimal=',', float_format=\"%.2f\")\n"
   ]
  },
  {
   "cell_type": "markdown",
   "id": "acf4d5c8",
   "metadata": {},
   "source": [
    "TABELA DE MAIS VENDIDOS POR QUANTIDADE."
   ]
  },
  {
   "cell_type": "code",
   "execution_count": 5,
   "id": "5e346136",
   "metadata": {},
   "outputs": [
    {
     "name": "stdout",
     "output_type": "stream",
     "text": [
      "produtos mais vendidos por quantidade\n",
      "    Produto  Quantidade\n",
      "1  Camiseta         232\n",
      "2   Jaqueta         231\n",
      "3      Saia         212\n",
      "5   Vestido         202\n",
      "0     Calça         191\n",
      "4     Short         176\n"
     ]
    }
   ],
   "source": [
    "mais_vendidos_qtd = (tabela.groupby(\"Produto\")[\"Quantidade\"].sum().reset_index().sort_values(by=\"Quantidade\", ascending =False))\n",
    "\n",
    "print(\"produtos mais vendidos por quantidade\")\n",
    "print(mais_vendidos_qtd)\n",
    "\n",
    "\n",
    "mais_vendidos_qtd.to_csv(\"mais_vendidos_qtd.csv\", index=False)"
   ]
  },
  {
   "cell_type": "markdown",
   "id": "104f44ae",
   "metadata": {},
   "source": [
    "TABELA DE MAIS VENDIDOS POR FATURAMENTO."
   ]
  },
  {
   "cell_type": "code",
   "execution_count": 6,
   "id": "89eb0756",
   "metadata": {},
   "outputs": [
    {
     "name": "stdout",
     "output_type": "stream",
     "text": [
      "mais vendidos por faturamento\n",
      "    Produto  Valor_Total\n",
      "1  Camiseta     40375.95\n",
      "2   Jaqueta     38850.70\n",
      "3      Saia     35310.72\n",
      "0     Calça     34192.95\n",
      "4     Short     31202.41\n",
      "5   Vestido     30292.70\n"
     ]
    }
   ],
   "source": [
    "mais_vendidos_faturamento = (tabela.groupby(\"Produto\")[\"Valor_Total\"].sum().reset_index().sort_values(by=\"Valor_Total\", ascending =False))\n",
    "\n",
    "print(\"mais vendidos por faturamento\")\n",
    "print ( mais_vendidos_faturamento)\n",
    "\n",
    "\n",
    "mais_vendidos_faturamento.to_csv(\"mais_vendidos_faturamento.csv\", index=False, float_format=\"%.2f\")\n"
   ]
  },
  {
   "cell_type": "markdown",
   "id": "94cc37a6",
   "metadata": {},
   "source": [
    "DIA COM MAIOR VENDAS EM JUNHO ASSIM PODEMOS VEREFICAR QUAL CAMPANHA DE MARKENTING FOI MAIS ACERTIVA."
   ]
  },
  {
   "cell_type": "code",
   "execution_count": 7,
   "id": "dcf37cf9",
   "metadata": {},
   "outputs": [
    {
     "name": "stdout",
     "output_type": "stream",
     "text": [
      "Dia com maior venda em junho: 2025-06-18 com R$1,550.44\n"
     ]
    }
   ],
   "source": [
    "\n",
    "tabela[\"Data_Venda\"] = pd.to_datetime(tabela[\"Data_Venda\"])\n",
    "junho = tabela[tabela[\"Data_Venda\"].dt.month == 6]\n",
    "vendas_por_dia = (\n",
    "    junho.groupby(\"Data_Venda\")[\"Valor_Total\"]\n",
    "    .sum()\n",
    "    .reset_index()\n",
    "    .sort_values(by=\"Valor_Total\", ascending=False)\n",
    ")\n",
    "\n",
    "dia_top = vendas_por_dia.iloc[0]\n",
    "\n",
    "print(F\"Dia com maior venda em junho: {dia_top['Data_Venda'].date()} com R${dia_top['Valor_Total']:,.2f}\")\n",
    "\n",
    "\n",
    "\n",
    "dia_top_df = pd.DataFrame([dia_top])\n",
    "dia_top_df.to_csv(\"dia_maior_venda_junho.csv\", index=False, sep=';', decimal=',', float_format=\"%.2f\")\n"
   ]
  },
  {
   "cell_type": "markdown",
   "id": "a65741fa",
   "metadata": {},
   "source": [
    "VEREFICAÇÕES SIMPLES MAIS QUE AJUDA NA PRATICA, AGORA VOU PASSAR PARA POWE BI."
   ]
  }
 ],
 "metadata": {
  "kernelspec": {
   "display_name": "Python 3",
   "language": "python",
   "name": "python3"
  },
  "language_info": {
   "codemirror_mode": {
    "name": "ipython",
    "version": 3
   },
   "file_extension": ".py",
   "mimetype": "text/x-python",
   "name": "python",
   "nbconvert_exporter": "python",
   "pygments_lexer": "ipython3",
   "version": "3.13.5"
  }
 },
 "nbformat": 4,
 "nbformat_minor": 5
}
